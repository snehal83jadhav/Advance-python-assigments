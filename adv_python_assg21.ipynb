{
 "cells": [
  {
   "cell_type": "markdown",
   "id": "0d296ebe-4082-4a53-ad75-9060f772df2f",
   "metadata": {},
   "source": [
    "Assignment 21 Solutions\n",
    "Q1. What is a probability distribution, exactly? If the values are meant to be random, how can you predict them at all ?\n",
    "Ans: A probability distribution describes how a random variable is distributed.\n",
    "\n",
    "It tells us which values a random variable is most likely to take on and which values are less likely. Based on the previous data and the occurences of the random event, we can predict the outcome in terms of probabilities.\n",
    "\n",
    "Q2. Is there a distinction between true random numbers and pseudo-random numbers, if there is one? Why are the latter considered “good enough”?\n",
    "Ans: : True Random Numbers are true physical values while pseudo-random numbers are generated internally by a program . Latter is considered good enough as they have sort of uniform distribution.\n",
    "\n",
    "Q3. What are the two main factors that influence the behaviour of a \"normal\" probability distribution ?\n",
    "Ans: Normal Probability Distribution are influenced by two factors mean and the variance.\n",
    "\n",
    "Q4. Provide a real-life example of a normal distribution ?\n",
    "Ans: A Real-life example of a normal distribution are heights or blood pressure measurements\n",
    "\n",
    "Q5. In the short term, how can you expect a probability distribution to behave? What do you think will happen as the number of trials grows ?\n",
    "Ans: Variance will decrease with number of trials\n",
    "\n",
    "Q6. What kind of object can be shuffled by using random.shuffle ?\n",
    "Ans: lists (list), strings (str) and tuples (tuple) objects can be shuffled by using random.shuffle.\r\n",
    "\r\n",
    "Q7. Describe the math package's general categories of functions ?\r\n",
    "Ans: The Math package's general categories of functions are:\r\n",
    "\r\n",
    "Trigonometric functions\r\n",
    "Quadratic functions\r\n",
    "Exponential functions\r\n",
    "Hyperbolic functions\r\n",
    "Periodic functions\r\n",
    "Arithmetic functions\r\n",
    "Logarithimic functions\r\n",
    "Conversions to Integer\r\n",
    "Q8. What is the relationship between exponentiation and logarithms ?\r\n",
    "Ans: Exponentiation and logarithms are inverse of each other.\r\n",
    "\r\n",
    "Q9. What are the three logarithmic functions that Python supports ?\r\n",
    "Ans: The Three Logarithmic Functions that Python supports are:\r\n",
    "\r\n",
    "log2(x) - logarithmic value of x to base 2\r\n",
    "log10(x) - logarithmic value of x to base 10\r\n",
    "log1p(a) - This function is used to compute logarithm(1+a) ."
   ]
  }
 ],
 "metadata": {
  "kernelspec": {
   "display_name": "Python 3 (ipykernel)",
   "language": "python",
   "name": "python3"
  },
  "language_info": {
   "codemirror_mode": {
    "name": "ipython",
    "version": 3
   },
   "file_extension": ".py",
   "mimetype": "text/x-python",
   "name": "python",
   "nbconvert_exporter": "python",
   "pygments_lexer": "ipython3",
   "version": "3.11.7"
  }
 },
 "nbformat": 4,
 "nbformat_minor": 5
}
