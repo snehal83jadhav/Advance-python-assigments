{
 "cells": [
  {
   "cell_type": "code",
   "execution_count": null,
   "id": "ffcbbf57-9f3d-4114-8204-6af6cb23c892",
   "metadata": {},
   "outputs": [],
   "source": [
    "Assigment 3\n",
    "1.What is the concept of an abstract superclass?\n",
    "Ans: An abstract class/superclass can be considered as a blueprint for other classes. \n",
    "It allows you to create a set of methods that must be created within any child classes built from \n",
    "the abstract class. A class which contains one or more abstract methods is called an abstract class.\n",
    "\n",
    "Whereas an abstract method is a method that has a declaration but does not have an implementation"
   ]
  },
  {
   "cell_type": "code",
   "execution_count": 1,
   "id": "dacce7ae-0390-47f2-a258-b3c4519ac101",
   "metadata": {},
   "outputs": [],
   "source": [
    "from abc import ABC, abstractmethod\n",
    "class Polygon(ABC): # Abstract Class\n",
    "    @abstractmethod\n",
    "    def noofsides(self): # Abstract Method\n",
    "        pass\n",
    "class Triangle(Polygon):\n",
    "    def noofsides(self):  # overriding abstract method in child class Triangle\n",
    "        print(\"I have 3 sides\")\n",
    "class Pentagon(Polygon):\n",
    "    def noofsides(self): # overriding abstract method in child class Pentagon\n",
    "        print(\"I have 5 sides\")"
   ]
  },
  {
   "cell_type": "code",
   "execution_count": null,
   "id": "9aa40209-b90e-4d26-8a6d-2f6fe10efad8",
   "metadata": {},
   "outputs": [],
   "source": [
    "2.What happens when a class statement's top level contains a basic assignment statement?\n",
    "Ans: When a Class statement's top level contains a basic assignment statement, its usually treated \n",
    "as a class attribute or class level variable.\n",
    "\n",
    "where as assignment statements inside methods are treated as instance attributes or local attributes.\n",
    "\n",
    "When an instance of a class is created a single copy of class attributes is maintained and shared \n",
    "to all instances of class. where as each instance object maintains its own copy of instance variables."
   ]
  },
  {
   "cell_type": "code",
   "execution_count": 2,
   "id": "65443557-365a-434a-8704-53ee6e6ffe7d",
   "metadata": {},
   "outputs": [],
   "source": [
    "class Person:\n",
    "    species = 'Homesapiens' # class attribute\n",
    "    def __init__(self,name,gender):\n",
    "        self.name = name # instance attributes\n",
    "        self.gender = gender"
   ]
  },
  {
   "cell_type": "code",
   "execution_count": null,
   "id": "d6d664fb-7066-41f1-8366-6d719be8a0fa",
   "metadata": {},
   "outputs": [],
   "source": [
    "3. Why does a class need to manually call a superclass's init method?\n",
    "Ans: if a child class has __init__ method, then it will not inherit the __init__ method of the parent \n",
    "class. in other words the __init__ method of the child class overrides the __init__ method of the\n",
    "parent class. so we have to manually call a parent superclass's __init__ using super() method"
   ]
  },
  {
   "cell_type": "code",
   "execution_count": 5,
   "id": "6f1882be-63c9-4098-ac29-c3c829d01681",
   "metadata": {},
   "outputs": [
    {
     "name": "stdout",
     "output_type": "stream",
     "text": [
      "{'name': 'snehal', 'age': 40, 'salary': 20000}\n"
     ]
    }
   ],
   "source": [
    "class Person:\n",
    "    def __init__(self,name,age):\n",
    "        self.name = name\n",
    "        self.age = age       \n",
    "class Employee(Person):\n",
    "    def __init__(self,name,age,salary):\n",
    "        super().__init__(name,age)\n",
    "        self.salary = salary\n",
    "emp_1 = Employee('snehal',40,20000)\n",
    "print(emp_1.__dict__)"
   ]
  },
  {
   "cell_type": "code",
   "execution_count": null,
   "id": "61f63f2c-92a3-4e90-9046-6233d04183fe",
   "metadata": {},
   "outputs": [],
   "source": [
    "4. How can you augment, instead of completely replacing, an inherited method?\n",
    "Ans: super() method can be used to augment, instead of completely replacing, an inherited method."
   ]
  },
  {
   "cell_type": "code",
   "execution_count": 6,
   "id": "b75bdc82-26b1-4ffb-bd57-8270b9898146",
   "metadata": {},
   "outputs": [
    {
     "name": "stdout",
     "output_type": "stream",
     "text": [
      "{'name': 'snehal', 'gender': 'female', 'salary': 10000}\n"
     ]
    }
   ],
   "source": [
    "class Person:\n",
    "    def __init__(self,name,gender):\n",
    "        self.name = name\n",
    "        self.gender = gender\n",
    "class Employee(Person):\n",
    "    def __init__(self,name,gender,salary):\n",
    "        super().__init__(name,gender) \n",
    "        self.salary = salary\n",
    "emp_1 = Employee('snehal','female',10000)\n",
    "print(emp_1.__dict__)       "
   ]
  },
  {
   "cell_type": "code",
   "execution_count": null,
   "id": "ee06da54-149e-44b7-be22-6653bf8ff2ab",
   "metadata": {},
   "outputs": [],
   "source": [
    "5. How is the local scope of a class different from that of a function?\n",
    "Ans: A Variable which is defined inside a function is local to that function. it is accesible from the \n",
    "point at which it is defined until the end of the function, and exists for as long as the function is \n",
    "existing.\n",
    "\n",
    "Similary a variable inside of a class also has a local variable scope.\n",
    "Variables which are defined in the class body (but outside all methods) are called as class level \n",
    "variables or class attributes. they can be referenced by there bare names within the same scope, \n",
    "but they can also be accessed from outside this scope if we use the attribute access operator (.). \n",
    "on a class or an instance of the class."
   ]
  },
  {
   "cell_type": "code",
   "execution_count": 8,
   "id": "cceb86c9-3d73-42eb-bb4e-ade9a1494fbb",
   "metadata": {},
   "outputs": [
    {
     "name": "stdout",
     "output_type": "stream",
     "text": [
      "your name is snehal\n",
      "Name varible is not available outside hello function scope\n",
      "HomeSapines\n",
      "HomeSapines\n"
     ]
    }
   ],
   "source": [
    "def hello(name):\n",
    "    name = name\n",
    "    print(\"your name is\",name)\n",
    "hello('snehal')\n",
    "try:\n",
    "    name\n",
    "except NameError:\n",
    "    print('Name varible is not available outside hello function scope')\n",
    "\n",
    "class Person:\n",
    "    species = \"HomeSapines\"\n",
    "    def __init__(self):\n",
    "        pass\n",
    "print(Person.species) # Accessing species using class name\n",
    "Male = Person()\n",
    "print(Male.species) # Accessing species using instance of class"
   ]
  },
  {
   "cell_type": "code",
   "execution_count": null,
   "id": "e2716f9c-015d-49aa-8f6a-3a0e670eb4f2",
   "metadata": {},
   "outputs": [],
   "source": []
  }
 ],
 "metadata": {
  "kernelspec": {
   "display_name": "Python 3 (ipykernel)",
   "language": "python",
   "name": "python3"
  },
  "language_info": {
   "codemirror_mode": {
    "name": "ipython",
    "version": 3
   },
   "file_extension": ".py",
   "mimetype": "text/x-python",
   "name": "python",
   "nbconvert_exporter": "python",
   "pygments_lexer": "ipython3",
   "version": "3.11.7"
  }
 },
 "nbformat": 4,
 "nbformat_minor": 5
}
