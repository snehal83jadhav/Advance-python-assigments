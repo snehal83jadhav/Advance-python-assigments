{
 "cells": [
  {
   "cell_type": "markdown",
   "id": "4a326520-0b78-45db-85f3-91bcec0df854",
   "metadata": {},
   "source": [
    "Assignment 07 Solutions\n",
    "Q1. What is the purpose of the try statement?\n",
    "Ans: try statement is used for exception handling in python. it consists of a block of risky statements\n",
    "which might cause an exception during runtime. if code within try block raises exception, then the \n",
    "exception will be reverted to the corresponding except block if multiple except blocks are present, \n",
    "else it willbe reverted to the default except block. In short try and except in union avoid programs\n",
    "from crashing during runtime due to exceptions."
   ]
  },
  {
   "cell_type": "code",
   "execution_count": 1,
   "id": "dfe99c6c-3a84-40e2-8413-e094b7696e6a",
   "metadata": {},
   "outputs": [
    {
     "name": "stdout",
     "output_type": "stream",
     "text": [
      "Division by Zero is Not Possible\n"
     ]
    }
   ],
   "source": [
    "try:\n",
    "    print(10/0)\n",
    "except ZeroDivisionError:\n",
    "    print('Division by Zero is Not Possible')"
   ]
  },
  {
   "cell_type": "markdown",
   "id": "3f0be78a-2c08-4552-a6da-d06f53b81997",
   "metadata": {},
   "source": [
    "Q2. What are the two most popular try statement variations?\n",
    "Ans: The Popular try statement variations are:\n",
    "\n",
    "try,except\n",
    "try,except,finally\n",
    "try,except,finally,else\n",
    "The try block is used to check code for exceptions during runtime. ie code inside try block will \n",
    "execute completely when there is no error in the program. Whereas the code inside except block \n",
    "will execute whenever the program encounters some error in the preceeding try block.\n",
    "\n",
    "Whereas the code enters the else block if and only if the try clause does not raise and exception. \n",
    "The code in the finally block will execute irrespective of exception."
   ]
  },
  {
   "cell_type": "markdown",
   "id": "8ea7d261-072e-4d02-8f2a-78c5481fd002",
   "metadata": {},
   "source": [
    "Q3. What is the purpose of the raise statement?\n",
    "Ans: raise statement is used to trigger an exception explicitly, if a certain condition is not as per \n",
    "requirement of programmer. raise statement helps in triggering exception as per programming logic."
   ]
  },
  {
   "cell_type": "markdown",
   "id": "b9103c68-0668-4753-9cd8-5dc9567b032d",
   "metadata": {},
   "source": [
    "Q4. What does the assert statement do, and what other statement is it like?\r\n",
    "Ans: There are few assertions that programmer always want to be true to avoid code failure. This type of requirement is fulfilled by assert statement. This statement takes a boolean condition output of which is True, Further Program Executes. if output of assert statement is False, it raises an Assertion Error."
   ]
  },
  {
   "cell_type": "code",
   "execution_count": 2,
   "id": "4f4932e1-1b42-447f-87d3-4085cc5f5e03",
   "metadata": {},
   "outputs": [
    {
     "ename": "AssertionError",
     "evalue": "this is not a valid statement",
     "output_type": "error",
     "traceback": [
      "\u001b[1;31m---------------------------------------------------------------------------\u001b[0m",
      "\u001b[1;31mAssertionError\u001b[0m                            Traceback (most recent call last)",
      "Cell \u001b[1;32mIn[2], line 1\u001b[0m\n\u001b[1;32m----> 1\u001b[0m \u001b[38;5;28;01massert\u001b[39;00m(\u001b[38;5;241m2\u001b[39m \u001b[38;5;241m==\u001b[39m \u001b[38;5;241m4\u001b[39m), \u001b[38;5;124mf\u001b[39m\u001b[38;5;124m'\u001b[39m\u001b[38;5;124mthis is not a valid statement\u001b[39m\u001b[38;5;124m'\u001b[39m\n",
      "\u001b[1;31mAssertionError\u001b[0m: this is not a valid statement"
     ]
    }
   ],
   "source": [
    "assert(2 == 4), f'this is not a valid statement'"
   ]
  },
  {
   "cell_type": "markdown",
   "id": "41cc6630-fe91-4a3e-b1f6-0c9adbb84878",
   "metadata": {},
   "source": [
    "Q5. What is the purpose of the with/as argument, and what other statement is it like?\n",
    "Ans: with/as statement simplifies use of file handling in python. When we use a with statement for \n",
    "file reading, there is no need for programmer to explicitly takecare of activities like resource \n",
    "deallocation and file closing by using file.close() method. with statement itself ensures proper \n",
    "acquisition and release of resources. this avoids triggering of exceptions if file closing is \n",
    "unknowingly forgotten in the code execution."
   ]
  },
  {
   "cell_type": "code",
   "execution_count": null,
   "id": "68a1b57e-4f58-4ec2-ab62-aea06174980f",
   "metadata": {},
   "outputs": [],
   "source": []
  }
 ],
 "metadata": {
  "kernelspec": {
   "display_name": "Python 3 (ipykernel)",
   "language": "python",
   "name": "python3"
  },
  "language_info": {
   "codemirror_mode": {
    "name": "ipython",
    "version": 3
   },
   "file_extension": ".py",
   "mimetype": "text/x-python",
   "name": "python",
   "nbconvert_exporter": "python",
   "pygments_lexer": "ipython3",
   "version": "3.11.7"
  }
 },
 "nbformat": 4,
 "nbformat_minor": 5
}
