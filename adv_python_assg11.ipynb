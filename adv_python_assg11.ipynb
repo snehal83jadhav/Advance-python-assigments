{
 "cells": [
  {
   "cell_type": "markdown",
   "id": "cc34ffcf-4de0-49cb-99a5-379aa6a83129",
   "metadata": {},
   "source": [
    "Assignment 11 Solutions\n",
    "Q1. What is the concept of a metaclass?\n",
    "Ans: Metaclass in Python is a class of a class that defines how a class behaves. A class is itself a \n",
    "instance of Metaclass, and any Instance of Class in Python is an Instance of type metaclass. E.g. \n",
    "Type of of int, str, float, list, tuple and many more is of metaclass type.\n",
    "\n",
    "Q2. What is the best way to declare a class's metaclass?\n",
    "Ans: A way to declare a class’ metaclass is by using metaclass keyword in class definition."
   ]
  },
  {
   "cell_type": "code",
   "execution_count": 1,
   "id": "d21d6eb3-7a49-48af-8fb6-d3279603caa1",
   "metadata": {},
   "outputs": [
    {
     "name": "stdout",
     "output_type": "stream",
     "text": [
      "<class 'type'>\n",
      "<class '__main__.meta'>\n"
     ]
    }
   ],
   "source": [
    "class meta(type):\n",
    "    pass\n",
    "class class_meta(metaclass=meta):\n",
    "    pass\n",
    "print(type(meta))\n",
    "print(type(class_meta))"
   ]
  },
  {
   "cell_type": "raw",
   "id": "0f385fef-5beb-41d3-8418-49a0171b8739",
   "metadata": {},
   "source": [
    "Q3. How do class decorators overlap with metaclasses for handling classes ?\n",
    "Ans: Anything you can do with a class decorator, you can of course do with a custom metaclasses \n",
    "(just apply the functionality of the \"decorator function\", i.e., the one that takes a class object \n",
    "and modifies it, in the course of the metaclass's __new__ or __init__ that make the class object!).\n",
    "\n",
    "Q4. How do class decorators overlap with metaclasses for handling instances?\n",
    "Ans: Anything you can do with a class decorator, you can of course do with a custom metaclass \n",
    "(just apply the functionality of the \"decorator function\", i.e., the one that takes a class object \n",
    "and modifies it, in the course of the metaclass's __new__ or __init__ that make the class object!)."
   ]
  }
 ],
 "metadata": {
  "kernelspec": {
   "display_name": "Python 3 (ipykernel)",
   "language": "python",
   "name": "python3"
  },
  "language_info": {
   "codemirror_mode": {
    "name": "ipython",
    "version": 3
   },
   "file_extension": ".py",
   "mimetype": "text/x-python",
   "name": "python",
   "nbconvert_exporter": "python",
   "pygments_lexer": "ipython3",
   "version": "3.11.7"
  }
 },
 "nbformat": 4,
 "nbformat_minor": 5
}
